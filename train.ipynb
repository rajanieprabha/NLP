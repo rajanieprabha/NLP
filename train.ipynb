{
 "cells": [
  {
   "cell_type": "code",
   "execution_count": 12,
   "metadata": {},
   "outputs": [],
   "source": [
    "import torch\n",
    "\n",
    "from Tacotron_model.taco_model import MelSpectrogramNet\n",
    "from graphviz import Digraph\n",
    "from torch.autograd import Variable\n",
    "\n",
    "\n",
    "# make_dot was moved to https://github.com/szagoruyko/pytorchviz\n",
    "from torchviz import make_dot, make_dot_from_trace"
   ]
  },
  {
   "cell_type": "code",
   "execution_count": null,
   "metadata": {},
   "outputs": [],
   "source": [
    "\n",
    "trace,  _  = torch.jit.trace(MelSpectrogramNet,  args=(x,))\n",
    "make_dot_from_trace(trace)"
   ]
  },
  {
   "cell_type": "code",
   "execution_count": null,
   "metadata": {},
   "outputs": [
    {
     "name": "stdout",
     "output_type": "stream",
     "text": [
      "Extending python path with /home/rajaniep/code/UntitledFolder/project/base\n",
      "CUDA is available. Using GPU.\n",
      "data at path /home/rajaniep/code/UntitledFolder/project/de_DE/by_book/female/angela_merkel/merkel_alone\n",
      "/home/rajaniep/anaconda3/envs/venv/lib/python3.6/site-packages/torch/nn/modules/rnn.py:38: UserWarning: dropout option adds dropout after all but last recurrent layer, so non-zero dropout expects num_layers greater than 1, but got dropout=0.1 and num_layers=1\n",
      "  \"num_layers={}\".format(dropout, num_layers))\n",
      "TRAINING STARTS\n",
      "Total epochs:  10\n",
      "  0%|                                               | 0/2 [00:00<?, ? batches/s]\n",
      " Epoch:  0\n",
      "\n",
      " Batch : 0\n",
      "torch.Size([50, 232])\n",
      "torch.Size([232, 50, 256])\n",
      "/home/rajaniep/code/UntitledFolder/project/src/Tacotron_model/taco_train.py:53: UserWarning: invalid index of a 0-dim tensor. This will be an error in PyTorch 0.5. Use tensor.item() to convert a 0-dim tensor to a Python number\n",
      "  total_loss += loss.data[0]\n",
      "/home/rajaniep/code/UntitledFolder/project/src/Tacotron_model/taco_train.py:55: UserWarning: invalid index of a 0-dim tensor. This will be an error in PyTorch 0.5. Use tensor.item() to convert a 0-dim tensor to a Python number\n",
      "  pbar.set_description(f'Train loss: {loss.data[0]:.4f}')\n",
      "Train loss: 541.8112:   0%|                       | 0/2 [1:00:33<?, ? batches/s]/home/rajaniep/code/UntitledFolder/project/src/Tacotron_model/taco_train.py:57: UserWarning: invalid index of a 0-dim tensor. This will be an error in PyTorch 0.5. Use tensor.item() to convert a 0-dim tensor to a Python number\n",
      "  log.info('loss :', loss.data[0], ' and step :',step)\n",
      "/home/rajaniep/code/UntitledFolder/project/src/Tacotron_model/taco_train.py:58: UserWarning: invalid index of a 0-dim tensor. This will be an error in PyTorch 0.5. Use tensor.item() to convert a 0-dim tensor to a Python number\n",
      "  writer.add_scalar('Train loss', loss.data[0], step)\n",
      "Train loss: 541.8112:  50%|█████▌     | 1/2 [1:00:35<1:00:35, 3635.13s/ batches]\n",
      " Batch : 1\n",
      "torch.Size([50, 234])\n",
      "torch.Size([234, 50, 256])\n",
      "Train loss: 602.9259: 100%|█████████████| 2/2 [1:57:43<00:00, 3531.66s/ batches]\n",
      " Batch : 2\n",
      "torch.Size([50, 217])\n",
      "torch.Size([217, 50, 256])\n",
      "Train loss: 428.8286: : 3 batches [2:48:53, 3377.72s/ batches]                  \n",
      " Batch : 3\n",
      "torch.Size([50, 237])\n",
      "torch.Size([237, 50, 256])\n",
      "Train loss: 312.4236: : 4 batches [3:46:49, 3402.43s/ batches]\n",
      " Batch : 4\n",
      "torch.Size([50, 259])\n",
      "torch.Size([259, 50, 256])\n",
      "Train loss: 330.4545: : 5 batches [4:39:51, 3358.33s/ batches]\n",
      " Batch : 5\n",
      "torch.Size([50, 258])\n",
      "torch.Size([258, 50, 256])\n",
      "Train loss: 323.8260: : 6 batches [5:49:12, 3492.01s/ batches]\n",
      " Batch : 6\n",
      "torch.Size([50, 249])\n",
      "torch.Size([249, 50, 256])\n",
      "Train loss: 287.5411: : 7 batches [7:06:16, 3653.85s/ batches]\n",
      " Batch : 7\n",
      "torch.Size([50, 253])\n",
      "torch.Size([253, 50, 256])\n",
      "Train loss: 274.2845: : 8 batches [8:26:19, 3797.50s/ batches]\n",
      " Batch : 8\n",
      "torch.Size([50, 242])\n",
      "torch.Size([242, 50, 256])\n",
      "Train loss: 266.4538: : 9 batches [9:41:23, 3876.00s/ batches]\n",
      " Batch : 9\n",
      "torch.Size([50, 265])\n",
      "torch.Size([265, 50, 256])\n",
      "Train loss: 231.2282: : 10 batches [11:05:48, 3994.83s/ batches]\n",
      " Batch : 10\n",
      "torch.Size([50, 252])\n",
      "torch.Size([252, 50, 256])\n",
      "Train loss: 232.9097: : 11 batches [12:08:41, 3974.66s/ batches]\n",
      " Batch : 11\n",
      "torch.Size([50, 255])\n",
      "torch.Size([255, 50, 256])\n",
      "Train loss: 205.5210: : 12 batches [13:13:06, 3965.53s/ batches]\n",
      " Batch : 12\n",
      "torch.Size([50, 253])\n",
      "torch.Size([253, 50, 256])\n"
     ]
    }
   ],
   "source": [
    "!CUDA_VISIBLE_DEVICES=2,3 python run.py"
   ]
  },
  {
   "cell_type": "code",
   "execution_count": null,
   "metadata": {},
   "outputs": [],
   "source": []
  }
 ],
 "metadata": {
  "kernelspec": {
   "display_name": "Python 3",
   "language": "python",
   "name": "python3"
  },
  "language_info": {
   "codemirror_mode": {
    "name": "ipython",
    "version": 3
   },
   "file_extension": ".py",
   "mimetype": "text/x-python",
   "name": "python",
   "nbconvert_exporter": "python",
   "pygments_lexer": "ipython3",
   "version": "3.6.4"
  }
 },
 "nbformat": 4,
 "nbformat_minor": 2
}
