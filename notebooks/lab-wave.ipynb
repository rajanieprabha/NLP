{
 "cells": [
  {
   "cell_type": "code",
   "execution_count": 1,
   "metadata": {},
   "outputs": [
    {
     "name": "stdout",
     "output_type": "stream",
     "text": [
      "/root/env/IDP-Luminovo/tts\n"
     ]
    },
    {
     "data": {
      "text/plain": [
       "'/root/env/IDP-Luminovo/tts'"
      ]
     },
     "execution_count": 1,
     "metadata": {},
     "output_type": "execute_result"
    }
   ],
   "source": [
    "# automatically show plots inside the notebook\n",
    "%matplotlib inline  \n",
    "\n",
    "# reload all modules before executing code\n",
    "%load_ext autoreload\n",
    "%autoreload 2  \n",
    "\n",
    "import numpy as np\n",
    "\n",
    "%cd ../\n",
    "%pwd"
   ]
  },
  {
   "cell_type": "code",
   "execution_count": 2,
   "metadata": {},
   "outputs": [],
   "source": [
    "from src.wavenet.wave_train import *\n",
    "from src.wavenet.wave_model import WavenetModel\n",
    "from src.dataset import TextToSpeechDataset, WavenetLoader"
   ]
  },
  {
   "cell_type": "code",
   "execution_count": 7,
   "metadata": {},
   "outputs": [],
   "source": [
    "import src.hparam as utils\n",
    "hparams = utils.load_params_from_yaml(\"src/wavenet/wave_hparams.yaml\")"
   ]
  },
  {
   "cell_type": "code",
   "execution_count": 4,
   "metadata": {},
   "outputs": [],
   "source": [
    "csv_file = \"data/metadata.csv\"\n",
    "audio_dir = 'data/wavs'"
   ]
  },
  {
   "cell_type": "code",
   "execution_count": 5,
   "metadata": {},
   "outputs": [
    {
     "name": "stdout",
     "output_type": "stream",
     "text": [
      "13084\n"
     ]
    }
   ],
   "source": [
    "from src.dataset import TextToSpeechDataset, WavenetLoader\n",
    "TTSDataset = TextToSpeechDataset(csv_file, audio_dir)\n",
    "print(len(TTSDataset))"
   ]
  },
  {
   "cell_type": "code",
   "execution_count": 8,
   "metadata": {},
   "outputs": [
    {
     "name": "stdout",
     "output_type": "stream",
     "text": [
      "Fetch dataloader: \n",
      "   sample size 16\n",
      "   recp:  15\n",
      "   output length:  1\n"
     ]
    }
   ],
   "source": [
    "model = util.fetch_model(hparams)\n",
    "dataloader = util.fetch_dataloader(TTSDataset, model, hparams)"
   ]
  },
  {
   "cell_type": "code",
   "execution_count": 14,
   "metadata": {},
   "outputs": [
    {
     "name": "stdout",
     "output_type": "stream",
     "text": [
      "31\n",
      "30\n",
      "1\n"
     ]
    }
   ],
   "source": [
    "sample_size = model.receptive_field + hparams.output_length\n",
    "print(sample_size)\n",
    "print(model.receptive_field)\n",
    "print(hparams.output_length)"
   ]
  },
  {
   "cell_type": "code",
   "execution_count": 1,
   "metadata": {},
   "outputs": [
    {
     "ename": "NameError",
     "evalue": "name 'train_and_evaluate' is not defined",
     "output_type": "error",
     "traceback": [
      "\u001b[0;31m---------------------------------------------------------------------------\u001b[0m",
      "\u001b[0;31mNameError\u001b[0m                                 Traceback (most recent call last)",
      "\u001b[0;32m<ipython-input-1-b3b47698cc51>\u001b[0m in \u001b[0;36m<module>\u001b[0;34m()\u001b[0m\n\u001b[0;32m----> 1\u001b[0;31m \u001b[0mtrain_and_evaluate\u001b[0m\u001b[0;34m(\u001b[0m\u001b[0mTTSDataset\u001b[0m\u001b[0;34m,\u001b[0m \u001b[0mhparams\u001b[0m\u001b[0;34m)\u001b[0m\u001b[0;34m\u001b[0m\u001b[0m\n\u001b[0m",
      "\u001b[0;31mNameError\u001b[0m: name 'train_and_evaluate' is not defined"
     ]
    }
   ],
   "source": [
    "train_and_evaluate(TTSDataset, hparams)"
   ]
  },
  {
   "cell_type": "code",
   "execution_count": 62,
   "metadata": {},
   "outputs": [
    {
     "name": "stdout",
     "output_type": "stream",
     "text": [
      "Fetch dataloader: \n",
      "   sample size 31\n",
      "   recp:  30\n",
      "   output length:  1\n",
      "256\n",
      "collate call!\n",
      "loader:  torch.Size([2, 1, 189853]) torch.Size([2, 189853])\n",
      "collate call!\n",
      "loader:  torch.Size([2, 1, 220317]) torch.Size([2, 220317])\n",
      "collate call!\n",
      "loader:  torch.Size([2, 1, 176797]) torch.Size([2, 176797])\n",
      "collate call!\n",
      "loader:  torch.Size([2, 1, 165533]) torch.Size([2, 165533])\n",
      "collate call!\n",
      "loader:  torch.Size([2, 1, 152221]) torch.Size([2, 152221])\n",
      "collate call!\n",
      "loader:  torch.Size([2, 1, 192925]) torch.Size([2, 192925])\n",
      "collate call!\n",
      "loader:  torch.Size([2, 1, 195485]) torch.Size([2, 195485])\n",
      "collate call!\n",
      "loader:  torch.Size([2, 1, 137885]) torch.Size([2, 137885])\n",
      "collate call!\n",
      "loader:  torch.Size([2, 1, 174493]) torch.Size([2, 174493])\n",
      "collate call!\n",
      "loader:  torch.Size([2, 1, 208541]) torch.Size([2, 208541])\n",
      "collate call!\n",
      "loader:  torch.Size([2, 1, 149405]) torch.Size([2, 149405])\n",
      "collate call!\n",
      "loader:  torch.Size([2, 1, 165789]) torch.Size([2, 165789])\n",
      "collate call!\n",
      "loader:  torch.Size([2, 1, 183709]) torch.Size([2, 183709])\n",
      "collate call!\n",
      "loader:  torch.Size([2, 1, 216733]) torch.Size([2, 216733])\n",
      "collate call!\n",
      "loader:  torch.Size([2, 1, 205725]) torch.Size([2, 205725])\n",
      "collate call!\n",
      "loader:  torch.Size([2, 1, 202909]) torch.Size([2, 202909])\n",
      "collate call!\n",
      "loader:  torch.Size([2, 1, 156061]) torch.Size([2, 156061])\n",
      "collate call!\n",
      "loader:  torch.Size([2, 1, 206749]) torch.Size([2, 206749])\n",
      "collate call!\n",
      "loader:  torch.Size([2, 1, 152477]) torch.Size([2, 152477])\n",
      "collate call!\n",
      "loader:  torch.Size([2, 1, 211869]) torch.Size([2, 211869])\n",
      "collate call!\n",
      "loader:  torch.Size([2, 1, 218525]) torch.Size([2, 218525])\n",
      "collate call!\n",
      "loader:  torch.Size([2, 1, 182173]) torch.Size([2, 182173])\n",
      "collate call!\n",
      "loader:  torch.Size([2, 1, 219037]) torch.Size([2, 219037])\n",
      "collate call!\n",
      "loader:  torch.Size([2, 1, 210333]) torch.Size([2, 210333])\n",
      "collate call!\n",
      "loader:  torch.Size([2, 1, 196509]) torch.Size([2, 196509])\n",
      "collate call!\n",
      "loader:  torch.Size([2, 1, 169373]) torch.Size([2, 169373])\n",
      "collate call!\n",
      "loader:  torch.Size([2, 1, 141469]) torch.Size([2, 141469])\n",
      "collate call!\n",
      "loader:  torch.Size([2, 1, 199325]) torch.Size([2, 199325])\n",
      "collate call!\n",
      "loader:  torch.Size([2, 1, 143517]) torch.Size([2, 143517])\n",
      "collate call!\n",
      "loader:  torch.Size([2, 1, 190621]) torch.Size([2, 190621])\n",
      "collate call!\n",
      "loader:  torch.Size([2, 1, 191645]) torch.Size([2, 191645])\n",
      "collate call!\n",
      "loader:  torch.Size([2, 1, 218525]) torch.Size([2, 218525])\n",
      "collate call!\n",
      "loader:  torch.Size([2, 1, 155805]) torch.Size([2, 155805])\n",
      "collate call!\n",
      "loader:  torch.Size([2, 1, 168093]) torch.Size([2, 168093])\n",
      "collate call!\n",
      "loader:  torch.Size([2, 1, 143261]) torch.Size([2, 143261])\n",
      "collate call!\n",
      "loader:  torch.Size([2, 1, 213405]) torch.Size([2, 213405])\n",
      "collate call!\n",
      "loader:  torch.Size([2, 1, 160669]) torch.Size([2, 160669])\n",
      "collate call!\n",
      "loader:  torch.Size([2, 1, 168605]) torch.Size([2, 168605])\n",
      "collate call!\n",
      "loader:  torch.Size([2, 1, 154013]) torch.Size([2, 154013])\n",
      "collate call!\n",
      "loader:  torch.Size([2, 1, 180893]) torch.Size([2, 180893])\n",
      "collate call!\n",
      "loader:  torch.Size([2, 1, 137629]) torch.Size([2, 137629])\n",
      "collate call!\n",
      "loader:  torch.Size([2, 1, 165277]) torch.Size([2, 165277])\n",
      "collate call!\n",
      "loader:  torch.Size([2, 1, 143005]) torch.Size([2, 143005])\n",
      "collate call!\n",
      "loader:  torch.Size([2, 1, 166813]) torch.Size([2, 166813])\n",
      "collate call!\n",
      "loader:  torch.Size([2, 1, 118429]) torch.Size([2, 118429])\n",
      "collate call!\n",
      "loader:  torch.Size([2, 1, 156829]) torch.Size([2, 156829])\n",
      "collate call!\n",
      "loader:  torch.Size([2, 1, 158877]) torch.Size([2, 158877])\n",
      "collate call!\n",
      "loader:  torch.Size([2, 1, 156317]) torch.Size([2, 156317])\n",
      "collate call!\n",
      "loader:  torch.Size([2, 1, 158877]) torch.Size([2, 158877])\n",
      "collate call!\n",
      "loader:  torch.Size([2, 1, 185501]) torch.Size([2, 185501])\n",
      "collate call!\n",
      "loader:  torch.Size([2, 1, 207005]) torch.Size([2, 207005])\n",
      "collate call!\n",
      "loader:  torch.Size([2, 1, 185757]) torch.Size([2, 185757])\n",
      "collate call!\n",
      "loader:  torch.Size([2, 1, 218013]) torch.Size([2, 218013])\n",
      "collate call!\n",
      "loader:  torch.Size([2, 1, 193437]) torch.Size([2, 193437])\n",
      "collate call!\n",
      "loader:  torch.Size([2, 1, 146333]) torch.Size([2, 146333])\n",
      "collate call!\n",
      "loader:  torch.Size([2, 1, 205213]) torch.Size([2, 205213])\n",
      "collate call!\n",
      "loader:  torch.Size([2, 1, 183709]) torch.Size([2, 183709])\n",
      "collate call!\n",
      "loader:  torch.Size([2, 1, 152477]) torch.Size([2, 152477])\n",
      "collate call!\n",
      "loader:  torch.Size([2, 1, 207261]) torch.Size([2, 207261])\n",
      "collate call!\n",
      "loader:  torch.Size([2, 1, 194717]) torch.Size([2, 194717])\n",
      "collate call!\n",
      "loader:  torch.Size([2, 1, 185757]) torch.Size([2, 185757])\n",
      "collate call!\n",
      "loader:  torch.Size([2, 1, 158109]) torch.Size([2, 158109])\n",
      "collate call!\n",
      "loader:  torch.Size([2, 1, 114845]) torch.Size([2, 114845])\n",
      "collate call!\n",
      "loader:  torch.Size([2, 1, 179613]) torch.Size([2, 179613])\n",
      "collate call!\n",
      "loader:  torch.Size([2, 1, 207005]) torch.Size([2, 207005])\n",
      "collate call!\n",
      "loader:  torch.Size([2, 1, 194717]) torch.Size([2, 194717])\n",
      "collate call!\n",
      "loader:  torch.Size([2, 1, 214173]) torch.Size([2, 214173])\n",
      "collate call!\n",
      "loader:  torch.Size([2, 1, 189085]) torch.Size([2, 189085])\n",
      "collate call!\n",
      "loader:  torch.Size([2, 1, 188829]) torch.Size([2, 188829])\n",
      "collate call!\n",
      "loader:  torch.Size([2, 1, 175517]) torch.Size([2, 175517])\n",
      "collate call!\n",
      "loader:  torch.Size([2, 1, 103837]) torch.Size([2, 103837])\n",
      "collate call!\n",
      "loader:  torch.Size([2, 1, 213405]) torch.Size([2, 213405])\n",
      "collate call!\n",
      "loader:  torch.Size([2, 1, 219805]) torch.Size([2, 219805])\n",
      "collate call!\n",
      "loader:  torch.Size([2, 1, 180381]) torch.Size([2, 180381])\n",
      "collate call!\n",
      "loader:  torch.Size([2, 1, 148125]) torch.Size([2, 148125])\n",
      "collate call!\n",
      "loader:  torch.Size([2, 1, 135581]) torch.Size([2, 135581])\n",
      "collate call!\n",
      "loader:  torch.Size([2, 1, 192413]) torch.Size([2, 192413])\n",
      "collate call!\n",
      "loader:  torch.Size([2, 1, 159133]) torch.Size([2, 159133])\n",
      "collate call!\n",
      "loader:  torch.Size([2, 1, 106653]) torch.Size([2, 106653])\n",
      "collate call!\n",
      "loader:  torch.Size([2, 1, 140189]) torch.Size([2, 140189])\n",
      "collate call!\n",
      "loader:  torch.Size([2, 1, 177053]) torch.Size([2, 177053])\n",
      "collate call!\n",
      "loader:  torch.Size([2, 1, 99997]) torch.Size([2, 99997])\n",
      "collate call!\n",
      "loader:  torch.Size([2, 1, 174493]) torch.Size([2, 174493])\n",
      "collate call!\n",
      "loader:  torch.Size([2, 1, 208285]) torch.Size([2, 208285])\n",
      "collate call!\n",
      "loader:  torch.Size([2, 1, 99229]) torch.Size([2, 99229])\n",
      "collate call!\n",
      "loader:  torch.Size([2, 1, 143517]) torch.Size([2, 143517])\n",
      "collate call!\n",
      "loader:  torch.Size([2, 1, 218525]) torch.Size([2, 218525])\n",
      "collate call!\n",
      "loader:  torch.Size([2, 1, 186781]) torch.Size([2, 186781])\n",
      "collate call!\n",
      "loader:  torch.Size([2, 1, 157853]) torch.Size([2, 157853])\n",
      "collate call!\n",
      "loader:  torch.Size([2, 1, 128925]) torch.Size([2, 128925])\n",
      "collate call!\n",
      "loader:  torch.Size([2, 1, 214173]) torch.Size([2, 214173])\n",
      "collate call!\n",
      "loader:  torch.Size([2, 1, 182685]) torch.Size([2, 182685])\n",
      "collate call!\n",
      "loader:  torch.Size([2, 1, 197277]) torch.Size([2, 197277])\n",
      "collate call!\n",
      "loader:  torch.Size([2, 1, 148893]) torch.Size([2, 148893])\n"
     ]
    },
    {
     "ename": "KeyboardInterrupt",
     "evalue": "",
     "output_type": "error",
     "traceback": [
      "\u001b[0;31m---------------------------------------------------------------------------\u001b[0m",
      "\u001b[0;31mKeyboardInterrupt\u001b[0m                         Traceback (most recent call last)",
      "\u001b[0;32m<ipython-input-62-8332d3320786>\u001b[0m in \u001b[0;36m<module>\u001b[0;34m()\u001b[0m\n\u001b[1;32m      4\u001b[0m \u001b[0mprint\u001b[0m\u001b[0;34m(\u001b[0m\u001b[0mloader\u001b[0m\u001b[0;34m.\u001b[0m\u001b[0mq_channels\u001b[0m\u001b[0;34m)\u001b[0m\u001b[0;34m\u001b[0m\u001b[0m\n\u001b[1;32m      5\u001b[0m \u001b[0;34m\u001b[0m\u001b[0m\n\u001b[0;32m----> 6\u001b[0;31m \u001b[0;32mfor\u001b[0m \u001b[0mx\u001b[0m\u001b[0;34m,\u001b[0m \u001b[0mtarget\u001b[0m \u001b[0;32min\u001b[0m \u001b[0mloader\u001b[0m\u001b[0;34m:\u001b[0m\u001b[0;34m\u001b[0m\u001b[0m\n\u001b[0m\u001b[1;32m      7\u001b[0m     \u001b[0mprint\u001b[0m\u001b[0;34m(\u001b[0m\u001b[0;34m\"loader: \"\u001b[0m\u001b[0;34m,\u001b[0m \u001b[0mx\u001b[0m\u001b[0;34m.\u001b[0m\u001b[0msize\u001b[0m\u001b[0;34m(\u001b[0m\u001b[0;34m)\u001b[0m\u001b[0;34m,\u001b[0m \u001b[0mtarget\u001b[0m\u001b[0;34m.\u001b[0m\u001b[0msize\u001b[0m\u001b[0;34m(\u001b[0m\u001b[0;34m)\u001b[0m\u001b[0;34m)\u001b[0m\u001b[0;34m\u001b[0m\u001b[0m\n",
      "\u001b[0;32m/usr/local/lib/python3.6/dist-packages/torch/utils/data/dataloader.py\u001b[0m in \u001b[0;36m__next__\u001b[0;34m(self)\u001b[0m\n\u001b[1;32m    262\u001b[0m         \u001b[0;32mif\u001b[0m \u001b[0mself\u001b[0m\u001b[0;34m.\u001b[0m\u001b[0mnum_workers\u001b[0m \u001b[0;34m==\u001b[0m \u001b[0;36m0\u001b[0m\u001b[0;34m:\u001b[0m  \u001b[0;31m# same-process loading\u001b[0m\u001b[0;34m\u001b[0m\u001b[0m\n\u001b[1;32m    263\u001b[0m             \u001b[0mindices\u001b[0m \u001b[0;34m=\u001b[0m \u001b[0mnext\u001b[0m\u001b[0;34m(\u001b[0m\u001b[0mself\u001b[0m\u001b[0;34m.\u001b[0m\u001b[0msample_iter\u001b[0m\u001b[0;34m)\u001b[0m  \u001b[0;31m# may raise StopIteration\u001b[0m\u001b[0;34m\u001b[0m\u001b[0m\n\u001b[0;32m--> 264\u001b[0;31m             \u001b[0mbatch\u001b[0m \u001b[0;34m=\u001b[0m \u001b[0mself\u001b[0m\u001b[0;34m.\u001b[0m\u001b[0mcollate_fn\u001b[0m\u001b[0;34m(\u001b[0m\u001b[0;34m[\u001b[0m\u001b[0mself\u001b[0m\u001b[0;34m.\u001b[0m\u001b[0mdataset\u001b[0m\u001b[0;34m[\u001b[0m\u001b[0mi\u001b[0m\u001b[0;34m]\u001b[0m \u001b[0;32mfor\u001b[0m \u001b[0mi\u001b[0m \u001b[0;32min\u001b[0m \u001b[0mindices\u001b[0m\u001b[0;34m]\u001b[0m\u001b[0;34m)\u001b[0m\u001b[0;34m\u001b[0m\u001b[0m\n\u001b[0m\u001b[1;32m    265\u001b[0m             \u001b[0;32mif\u001b[0m \u001b[0mself\u001b[0m\u001b[0;34m.\u001b[0m\u001b[0mpin_memory\u001b[0m\u001b[0;34m:\u001b[0m\u001b[0;34m\u001b[0m\u001b[0m\n\u001b[1;32m    266\u001b[0m                 \u001b[0mbatch\u001b[0m \u001b[0;34m=\u001b[0m \u001b[0mpin_memory_batch\u001b[0m\u001b[0;34m(\u001b[0m\u001b[0mbatch\u001b[0m\u001b[0;34m)\u001b[0m\u001b[0;34m\u001b[0m\u001b[0m\n",
      "\u001b[0;32m/usr/local/lib/python3.6/dist-packages/torch/utils/data/dataloader.py\u001b[0m in \u001b[0;36m<listcomp>\u001b[0;34m(.0)\u001b[0m\n\u001b[1;32m    262\u001b[0m         \u001b[0;32mif\u001b[0m \u001b[0mself\u001b[0m\u001b[0;34m.\u001b[0m\u001b[0mnum_workers\u001b[0m \u001b[0;34m==\u001b[0m \u001b[0;36m0\u001b[0m\u001b[0;34m:\u001b[0m  \u001b[0;31m# same-process loading\u001b[0m\u001b[0;34m\u001b[0m\u001b[0m\n\u001b[1;32m    263\u001b[0m             \u001b[0mindices\u001b[0m \u001b[0;34m=\u001b[0m \u001b[0mnext\u001b[0m\u001b[0;34m(\u001b[0m\u001b[0mself\u001b[0m\u001b[0;34m.\u001b[0m\u001b[0msample_iter\u001b[0m\u001b[0;34m)\u001b[0m  \u001b[0;31m# may raise StopIteration\u001b[0m\u001b[0;34m\u001b[0m\u001b[0m\n\u001b[0;32m--> 264\u001b[0;31m             \u001b[0mbatch\u001b[0m \u001b[0;34m=\u001b[0m \u001b[0mself\u001b[0m\u001b[0;34m.\u001b[0m\u001b[0mcollate_fn\u001b[0m\u001b[0;34m(\u001b[0m\u001b[0;34m[\u001b[0m\u001b[0mself\u001b[0m\u001b[0;34m.\u001b[0m\u001b[0mdataset\u001b[0m\u001b[0;34m[\u001b[0m\u001b[0mi\u001b[0m\u001b[0;34m]\u001b[0m \u001b[0;32mfor\u001b[0m \u001b[0mi\u001b[0m \u001b[0;32min\u001b[0m \u001b[0mindices\u001b[0m\u001b[0;34m]\u001b[0m\u001b[0;34m)\u001b[0m\u001b[0;34m\u001b[0m\u001b[0m\n\u001b[0m\u001b[1;32m    265\u001b[0m             \u001b[0;32mif\u001b[0m \u001b[0mself\u001b[0m\u001b[0;34m.\u001b[0m\u001b[0mpin_memory\u001b[0m\u001b[0;34m:\u001b[0m\u001b[0;34m\u001b[0m\u001b[0m\n\u001b[1;32m    266\u001b[0m                 \u001b[0mbatch\u001b[0m \u001b[0;34m=\u001b[0m \u001b[0mpin_memory_batch\u001b[0m\u001b[0;34m(\u001b[0m\u001b[0mbatch\u001b[0m\u001b[0;34m)\u001b[0m\u001b[0;34m\u001b[0m\u001b[0m\n",
      "\u001b[0;32m/root/env/IDP-Luminovo/tts/src/dataset.py\u001b[0m in \u001b[0;36m__getitem__\u001b[0;34m(self, idx)\u001b[0m\n\u001b[1;32m     36\u001b[0m \t\taudio_name = os.path.join(self.wav_file,\n\u001b[1;32m     37\u001b[0m \t\t\t\t\t\t\t\t  self.text_frames.iloc[idx, 0]) + '.wav'\n\u001b[0;32m---> 38\u001b[0;31m                 \u001b[0maudio\u001b[0m\u001b[0;34m,\u001b[0m \u001b[0m_\u001b[0m \u001b[0;34m=\u001b[0m \u001b[0mlibrosa\u001b[0m\u001b[0;34m.\u001b[0m\u001b[0mload\u001b[0m\u001b[0;34m(\u001b[0m\u001b[0maudio_name\u001b[0m\u001b[0;34m)\u001b[0m\u001b[0;34m\u001b[0m\u001b[0m\n\u001b[0m\u001b[1;32m     39\u001b[0m                 \u001b[0maudio_array\u001b[0m \u001b[0;34m=\u001b[0m \u001b[0mnp\u001b[0m\u001b[0;34m.\u001b[0m\u001b[0masarray\u001b[0m\u001b[0;34m(\u001b[0m\u001b[0maudio\u001b[0m\u001b[0;34m)\u001b[0m  \u001b[0;31m# convert tuple to np array\u001b[0m\u001b[0;34m\u001b[0m\u001b[0m\n\u001b[1;32m     40\u001b[0m                 \u001b[0mtext\u001b[0m \u001b[0;34m=\u001b[0m \u001b[0mself\u001b[0m\u001b[0;34m.\u001b[0m\u001b[0mtext_frames\u001b[0m\u001b[0;34m.\u001b[0m\u001b[0miloc\u001b[0m\u001b[0;34m[\u001b[0m\u001b[0midx\u001b[0m\u001b[0;34m,\u001b[0m \u001b[0;36m2\u001b[0m\u001b[0;34m:\u001b[0m\u001b[0;34m]\u001b[0m\u001b[0;34m\u001b[0m\u001b[0m\n",
      "\u001b[0;32m/usr/local/lib/python3.6/dist-packages/librosa/core/audio.py\u001b[0m in \u001b[0;36mload\u001b[0;34m(path, sr, mono, offset, duration, dtype, res_type)\u001b[0m\n\u001b[1;32m    125\u001b[0m \u001b[0;34m\u001b[0m\u001b[0m\n\u001b[1;32m    126\u001b[0m         \u001b[0;32mfor\u001b[0m \u001b[0mframe\u001b[0m \u001b[0;32min\u001b[0m \u001b[0minput_file\u001b[0m\u001b[0;34m:\u001b[0m\u001b[0;34m\u001b[0m\u001b[0m\n\u001b[0;32m--> 127\u001b[0;31m             \u001b[0mframe\u001b[0m \u001b[0;34m=\u001b[0m \u001b[0mutil\u001b[0m\u001b[0;34m.\u001b[0m\u001b[0mbuf_to_float\u001b[0m\u001b[0;34m(\u001b[0m\u001b[0mframe\u001b[0m\u001b[0;34m,\u001b[0m \u001b[0mdtype\u001b[0m\u001b[0;34m=\u001b[0m\u001b[0mdtype\u001b[0m\u001b[0;34m)\u001b[0m\u001b[0;34m\u001b[0m\u001b[0m\n\u001b[0m\u001b[1;32m    128\u001b[0m             \u001b[0mn_prev\u001b[0m \u001b[0;34m=\u001b[0m \u001b[0mn\u001b[0m\u001b[0;34m\u001b[0m\u001b[0m\n\u001b[1;32m    129\u001b[0m             \u001b[0mn\u001b[0m \u001b[0;34m=\u001b[0m \u001b[0mn\u001b[0m \u001b[0;34m+\u001b[0m \u001b[0mlen\u001b[0m\u001b[0;34m(\u001b[0m\u001b[0mframe\u001b[0m\u001b[0;34m)\u001b[0m\u001b[0;34m\u001b[0m\u001b[0m\n",
      "\u001b[0;32m/usr/local/lib/python3.6/dist-packages/librosa/util/utils.py\u001b[0m in \u001b[0;36mbuf_to_float\u001b[0;34m(x, n_bytes, dtype)\u001b[0m\n\u001b[1;32m   1368\u001b[0m \u001b[0;34m\u001b[0m\u001b[0m\n\u001b[1;32m   1369\u001b[0m     \u001b[0;31m# Construct the format string\u001b[0m\u001b[0;34m\u001b[0m\u001b[0;34m\u001b[0m\u001b[0m\n\u001b[0;32m-> 1370\u001b[0;31m     \u001b[0mfmt\u001b[0m \u001b[0;34m=\u001b[0m \u001b[0;34m'<i{:d}'\u001b[0m\u001b[0;34m.\u001b[0m\u001b[0mformat\u001b[0m\u001b[0;34m(\u001b[0m\u001b[0mn_bytes\u001b[0m\u001b[0;34m)\u001b[0m\u001b[0;34m\u001b[0m\u001b[0m\n\u001b[0m\u001b[1;32m   1371\u001b[0m \u001b[0;34m\u001b[0m\u001b[0m\n\u001b[1;32m   1372\u001b[0m     \u001b[0;31m# Rescale and format the data buffer\u001b[0m\u001b[0;34m\u001b[0m\u001b[0;34m\u001b[0m\u001b[0m\n",
      "\u001b[0;31mKeyboardInterrupt\u001b[0m: "
     ]
    }
   ],
   "source": [
    "from src.dataset import TextToSpeechDataset, WavenetLoader\n",
    "dataloader = util.fetch_dataloader(TTSDataset, model, hparams)\n",
    "loader = dataloader['val']\n",
    "print(loader.q_channels)\n",
    "\n",
    "for x, target in loader:\n",
    "    print(\"loader: \", x.size(), target.size())"
   ]
  },
  {
   "cell_type": "code",
   "execution_count": 73,
   "metadata": {},
   "outputs": [
    {
     "data": {
      "text/plain": [
       "array([-7.3242188e-04, -7.6293945e-04, -6.4086914e-04, ...,\n",
       "        7.3242188e-04,  2.1362305e-04,  6.1035156e-05], dtype=float32)"
      ]
     },
     "execution_count": 73,
     "metadata": {},
     "output_type": "execute_result"
    }
   ],
   "source": [
    "TTSDataset[0]['speech']"
   ]
  },
  {
   "cell_type": "code",
   "execution_count": 4,
   "metadata": {},
   "outputs": [],
   "source": [
    "from src.wavenet import *"
   ]
  },
  {
   "cell_type": "code",
   "execution_count": 5,
   "metadata": {},
   "outputs": [
    {
     "ename": "NameError",
     "evalue": "name 'wave_util' is not defined",
     "output_type": "error",
     "traceback": [
      "\u001b[0;31m---------------------------------------------------------------------------\u001b[0m",
      "\u001b[0;31mNameError\u001b[0m                                 Traceback (most recent call last)",
      "\u001b[0;32m<ipython-input-5-632500b2554b>\u001b[0m in \u001b[0;36m<module>\u001b[0;34m()\u001b[0m\n\u001b[0;32m----> 1\u001b[0;31m \u001b[0mwave_util\u001b[0m\u001b[0;34m.\u001b[0m\u001b[0mone_hot\u001b[0m\u001b[0;34m\u001b[0m\u001b[0m\n\u001b[0m",
      "\u001b[0;31mNameError\u001b[0m: name 'wave_util' is not defined"
     ]
    }
   ],
   "source": [
    "wave_util.one_hot"
   ]
  },
  {
   "cell_type": "code",
   "execution_count": 38,
   "metadata": {},
   "outputs": [],
   "source": [
    "z = torch.zeros(0, 0)"
   ]
  },
  {
   "cell_type": "code",
   "execution_count": 39,
   "metadata": {},
   "outputs": [
    {
     "ename": "RuntimeError",
     "evalue": "Expected a Tensor of type torch.FloatTensor but found a type torch.LongTensor for sequence element 1  in sequence argument at position #1 'tensors'",
     "output_type": "error",
     "traceback": [
      "\u001b[0;31m---------------------------------------------------------------------------\u001b[0m",
      "\u001b[0;31mRuntimeError\u001b[0m                              Traceback (most recent call last)",
      "\u001b[0;32m<ipython-input-39-a2e4d9ce0188>\u001b[0m in \u001b[0;36m<module>\u001b[0;34m()\u001b[0m\n\u001b[0;32m----> 1\u001b[0;31m \u001b[0mtorch\u001b[0m\u001b[0;34m.\u001b[0m\u001b[0mcat\u001b[0m\u001b[0;34m(\u001b[0m\u001b[0;34m(\u001b[0m\u001b[0mz\u001b[0m\u001b[0;34m,\u001b[0m \u001b[0mk\u001b[0m\u001b[0;34m)\u001b[0m\u001b[0;34m)\u001b[0m\u001b[0;34m\u001b[0m\u001b[0m\n\u001b[0m",
      "\u001b[0;31mRuntimeError\u001b[0m: Expected a Tensor of type torch.FloatTensor but found a type torch.LongTensor for sequence element 1  in sequence argument at position #1 'tensors'"
     ]
    }
   ],
   "source": [
    "torch.cat((z, k))"
   ]
  },
  {
   "cell_type": "code",
   "execution_count": null,
   "metadata": {},
   "outputs": [],
   "source": []
  }
 ],
 "metadata": {
  "kernelspec": {
   "display_name": "Python 3",
   "language": "python",
   "name": "python3"
  },
  "language_info": {
   "codemirror_mode": {
    "name": "ipython",
    "version": 3
   },
   "file_extension": ".py",
   "mimetype": "text/x-python",
   "name": "python",
   "nbconvert_exporter": "python",
   "pygments_lexer": "ipython3",
   "version": "3.6.5"
  }
 },
 "nbformat": 4,
 "nbformat_minor": 2
}
